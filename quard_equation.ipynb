{
 "cells": [
  {
   "cell_type": "code",
   "execution_count": 7,
   "metadata": {},
   "outputs": [
    {
     "name": "stdout",
     "output_type": "stream",
     "text": [
      "[1, 0.0070877, 2562.81]\n",
      "[1, 632.812, 0.0634989]\n",
      "[1, 0.0756518, 0.00356284]\n",
      "[1, 2.62004, 0.00961007]\n",
      "[1, 0.0686301, 47.2186]\n",
      "[1, 71.684, 4.03236]\n",
      "[1, 807.35, 0.0102712]\n",
      "[1, 474.765, 0.0083479]\n",
      "[1, 60.286, 346.016]\n",
      "[1, 0.174988, 10486.0]\n"
     ]
    }
   ],
   "source": [
    "from mpmath import *\n",
    "mp.pretty = True\n",
    "import numpy as np\n",
    "import random as rd\n",
    "\n",
    "file = open(\"data.txt\", \"a\")\n",
    "file.write(\"{},{},{},{},{},{},{},{},{}\\n\".format('\"a\"', '\"b\"', '\"c\"', '\"re1\"', '\"re2\"', '\"x11\"', '\"x12\"', '\"x21\"', '\"x22\"'))\n",
    "\n",
    "for i in range(0, 10000):\n",
    "    co = ([(rd.randint(2, 999999) * power(10, rd.randint(-4, 4))) / 10000 for i in range(3)])\n",
    "    co[0] = 1\n",
    "    if i % 1000 == 0:\n",
    "        print(co)\n",
    "    try:\n",
    "        a = co[0]\n",
    "        b = co[1]\n",
    "        c = co[2]\n",
    "        if b * b - 4 * a * c < 0:\n",
    "            continue\n",
    "        mp.dps = 7\n",
    "        # print(co)\n",
    "        x11 = (-b + sqrt(b * b - 4 * a * c)) / 2 / a\n",
    "        x12 = (-b - sqrt(b * b - 4 * a * c)) / 2 / a\n",
    "        # print(x11)\n",
    "        # print(x12)\n",
    "        mp.dps = 25\n",
    "        # print(co)\n",
    "        x21 = (-b + sqrt(b * b - 4 * a * c)) / 2 / a\n",
    "        x22 = (-b - sqrt(b * b - 4 * a * c)) / 2 / a\n",
    "        # print(x21)\n",
    "        # print(x22)\n",
    "        re1 = (abs((x22 - x12) / x22))\n",
    "        re2 = (abs((x21 - x11) / x21))\n",
    "        # print(re1)\n",
    "        # print(re2)\n",
    "        file.write(\"{},{},{},{},{},{},{},{},{}\\n\".format(log(a), log(b), log(c), log(re1), log(re2), x11, x12, x21, x22))\n",
    "        \n",
    "    except Exception as e:\n",
    "        continue\n",
    "        # print(str(e))\n",
    "\n",
    "file.close()\n"
   ]
  },
  {
   "cell_type": "code",
   "execution_count": null,
   "metadata": {},
   "outputs": [],
   "source": []
  }
 ],
 "metadata": {
  "kernelspec": {
   "display_name": "Python 3",
   "language": "python",
   "name": "python3"
  },
  "language_info": {
   "codemirror_mode": {
    "name": "ipython",
    "version": 3
   },
   "file_extension": ".py",
   "mimetype": "text/x-python",
   "name": "python",
   "nbconvert_exporter": "python",
   "pygments_lexer": "ipython3",
   "version": "3.5.2"
  }
 },
 "nbformat": 4,
 "nbformat_minor": 2
}
